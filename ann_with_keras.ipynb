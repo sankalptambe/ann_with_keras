{
 "cells": [
  {
   "cell_type": "markdown",
   "metadata": {},
   "source": [
    "# Introduction to Artificial Neural Networks with Keras"
   ]
  },
  {
   "cell_type": "markdown",
   "metadata": {},
   "source": [
    "Artificial Neural Networks (ANNs): is a Machine Learning model inspired by the networks of biological neurons found in our brains.\n",
    "\n",
    "#### Biological Neuron\n",
    "![Biological Neuron](images/biological-neuron.jpg)\n",
    "\n",
    "\n",
    "Biological neurons produce short electrical impulses called *action potentials* (APs, or just *signals*) which travel along the axons and make the synapses release chemical signals called *neurotransmitters*. When a neuron receives suffient amount of these neurotransmitters within a few milliseconds, it fires its own electrical impulses.\n",
    "\n",
    "These individual neurons are organized in a vast network of billions, with each neuron typically connected to thousands of other neurons.\n",
    "\n",
    "### Logical computations with Neurons\n",
    "\n",
    "The below diagram represents the logical computations on neuron activation.\n",
    "\n",
    "![Logical Computations](images/log_comp.png)\n",
    "\n",
    "* If A is activated, then C also gets activated\n",
    "* C is activated only when both A and B are activated (logical *AND*)\n",
    "* C is activated if either A or B is activated (logical *OR*)\n",
    "* C is activated only if A is active and B is off.\n",
    "\n",
    "### The Perceptron\n",
    "The *Perceptron* is one of the simplest ANN architectures based on a slightly different artificial neuron called a *threshold logic unit* (TLU), or sometimes *lienar threshold unit* (LTU). the inputs and outputs are numbers (instead of binary on/off values, and each input connection is associated with a weight.\n",
    "\n",
    "The TLU computes the weighted sum of its inputs ($z = w_1x_1 + w_2x_2 +  ... + w_nx_n = x^Tw$), then applies a step function to that sum and outputs the result : $h_w(x)$ = step(z), where z = $x^Tw$.\n",
    "\n",
    "\n",
    "![TLU](images/tlu.png)\n",
    "\n",
    "\n",
    "The most common step function used in Perceptrons is the *Heaviside step function.* Sometimes the sign function is used instead.\n",
    "\n",
    " $$ heaviside(z)=   \\left\\{\n",
    "\\begin{array}{ll}\n",
    "      0 & if z < 0 \\\\\n",
    "      1 & if z >= 0 \\\\\n",
    "\\end{array} \n",
    "\\right.  $$\n",
    "\n",
    " $$ sgn(z)=   \\left\\{\n",
    "\\begin{array}{ll}\n",
    "      -1 & if z < 0 \\\\\n",
    "      1 & if z = 0 \\\\\n",
    "      +1 & if z > 0 \\\\\n",
    "\\end{array} \n",
    "\\right.  $$\n",
    "\n",
    "\n",
    "A Perceptron is simply composed of a single layer of TLUs, with each TLU connected to all inputs.  \n",
    "The inputs of the Perceptron are fed to special passthrough neurons called *input neurons*: they output whatever they are fed. All the input neurons form the *input layer*. Moreover, an extra bias feature is generally added (x$_0$ = 1): called a *bias neuron*, which outputs 1 all the time.\n",
    "\n",
    "![TLU](images/perceptron.png)\n",
    "\n",
    "\n",
    "The above Perceptron can classify instances simultaneously into three different binary classes, which makes it a multioutput classifier.\n",
    "\n",
    "Computing the outputs of a fully connected layer:\n",
    "\n",
    "$$h_{W,b}(X) = \\phi(XW + b)$$\n",
    "\n",
    "where,<br>\n",
    "X represents the matrix of input features,<br>\n",
    "W is weight matrix,<br>\n",
    "b is bias vector,<br>\n",
    "$\\phi$ is activation function (here, it is a *step function* as the artificial neurons are TLUs).\n",
    "\n",
    "### How is a Perceptron trained?\n",
    "\n",
    "The Perceptron training algorithm was largely inspired by *Hebb's Rule*.\n",
    "It states that the connection between two neurons tends to increse when they fire simultaneously. This later became known as Hebb's rule (or **Hebbian learning**). \n",
    "Perceptrons are trained taking into account the error made by the network when it makes a prediction; the Perceptron learning rule reinforces connnections that help reduce the error.\n",
    "\n",
    "Perceptron learning rule: $$ w_{i,j}^{(next step)} = w_{i,j} + \\eta (y_j - \\hat y_j) x_i $$\n",
    "\n",
    "In this equation:\n",
    "* $ w_{i,j}$ is the connection weight between the i$^{th}$ input neuron and the j$^{th}$ output neuron.\n",
    "* x$_i$ is the i$^{th}$ input value of the current training instance.\n",
    "* $y_j$ is the target output of the j$^{th}$ output neuron for the current training instance.\n",
    "* $\\hat y_j$ is the output of the  j$^{th}$ output neuron for the current training instance.\n",
    "* $\\eta$ is the learning rate."
   ]
  },
  {
   "cell_type": "markdown",
   "metadata": {},
   "source": [
    "## Setup"
   ]
  },
  {
   "cell_type": "code",
   "execution_count": 5,
   "metadata": {},
   "outputs": [],
   "source": [
    "# Python ≥3.5 is required\n",
    "import sys\n",
    "assert sys.version_info >= (3, 5)\n",
    "\n",
    "# Scikit-Learn ≥0.20 is required\n",
    "import sklearn\n",
    "assert sklearn.__version__ >= \"0.20\"\n",
    "\n",
    "try:\n",
    "    # %tensorflow_version only exists in Colab.\n",
    "    %tensorflow_version 2.x\n",
    "except Exception:\n",
    "    pass\n",
    "\n",
    "# TensorFlow ≥2.0 is required\n",
    "import tensorflow as tf\n",
    "assert tf.__version__ >= \"2.0\"\n",
    "\n",
    "# Common imports\n",
    "import numpy as np\n",
    "import os\n",
    "\n",
    "# to make this notebook's output stable across runs\n",
    "np.random.seed(42)\n",
    "\n",
    "# To plot pretty figures\n",
    "%matplotlib inline\n",
    "import matplotlib as mpl\n",
    "import matplotlib.pyplot as plt\n",
    "mpl.rc('axes', labelsize=14)\n",
    "mpl.rc('xtick', labelsize=12)\n",
    "mpl.rc('ytick', labelsize=12)\n",
    "\n",
    "# Where to save the figures\n",
    "PROJECT_ROOT_DIR = \".\"\n",
    "IMAGES_PATH = os.path.join(PROJECT_ROOT_DIR, \"images\")\n",
    "os.makedirs(IMAGES_PATH, exist_ok=True)\n",
    "\n",
    "def save_fig(fig_id, tight_layout=True, fig_extension=\"png\", resolution=300):\n",
    "    path = os.path.join(IMAGES_PATH, fig_id + \".\" + fig_extension)\n",
    "    print(\"Saving figure\", fig_id)\n",
    "    if tight_layout:\n",
    "        plt.tight_layout()\n",
    "    plt.savefig(path, format=fig_extension, dpi=resolution)\n",
    "\n",
    "# Ignore useless warnings (see SciPy issue #5998)\n",
    "import warnings\n",
    "warnings.filterwarnings(action=\"ignore\", message=\"^internal gelsd\")"
   ]
  },
  {
   "cell_type": "markdown",
   "metadata": {},
   "source": [
    "We will implement a single-TLU network with Scikit-Learn."
   ]
  },
  {
   "cell_type": "code",
   "execution_count": 7,
   "metadata": {},
   "outputs": [
    {
     "data": {
      "text/plain": [
       "array([0])"
      ]
     },
     "execution_count": 7,
     "metadata": {},
     "output_type": "execute_result"
    }
   ],
   "source": [
    "import numpy as np\n",
    "from sklearn.datasets import load_iris\n",
    "from sklearn.linear_model import Perceptron\n",
    "\n",
    "iris = load_iris()\n",
    "\n",
    "X = iris.data[:, (2, 3)]\n",
    "y = (iris.target == 0).astype(np.int) # iris setosa\n",
    "\n",
    "per_clf = Perceptron()\n",
    "per_clf.fit(X, y)\n",
    "\n",
    "y_pred = per_clf.predict([[2, 0.5]])\n",
    "\n",
    "y_pred"
   ]
  },
  {
   "cell_type": "markdown",
   "metadata": {},
   "source": [
    "Perceptrons are incapable of solving some trivial problems (e.g., the XOR classification problem). This limitation can be eliminated by stacking multiple Perceptrons. The resulting ANN is called a *Multilayer Perceptron* (MLP).\n",
    "\n",
    "### Multilayer Perceptron and Backpropagation\n",
    "\n",
    "An MLP is composed of one (passthrough) input layer, one or more layers of TLUs, called *hidden layers*, and one final layer of TLUs called the output layer. Every layer except for the output layer includes a bias neuron and is fully connected to the next layer.\n",
    "\n",
    "![MLP](images/mlp.png)\n",
    "\n",
    "When an ANN contains a deep stack of hidden layers, it is called a *deep neural network* (DNN).\n",
    "\n",
    "#### Backpropagation  training algorithm\n",
    "It can find out how each connection weight and each bias term should be tweaked in order to reduce the error.\n",
    "* It handles one mini-batch at a time, and it goes through full training set multiple times. Each pass is called an *epoch*.\n",
    "* Each mini-batch is passed to the network's input layer, which sends it to first hidden layer. The algorithm then computes the output of all neurons in this layer (for every instance in mini-batch). The result is passed on to next layer, and so on, until we get the output of the last layer. This is a *forward pass*.\n",
    "* Next, the algorithm measures the network's output error.\n",
    "* Then it computes how much each output connection contributed to the error (by applying *chain rule*).\n",
    "* The algorithm then measures how much of these error contributions come from each connection in the layer below, working backward until the algorithm reaches the input layer.\n",
    "* Finally, the algorithm performs Gradient Descent step to tweak all the connection weights in the network, using the error gradients it just computed.\n",
    "\n",
    "The step function is replaced with the logistic (sigmoid) function, $\\sigma(z) = 1 / (1 + exp(-z)) $. This was essential because the step function contains only flat segments, so there is no gradient to work with (Gradient Descent cannot move on a flat surface).\n",
    "\n",
    "Backpropagation also works well with other activation functions like:<br>\n",
    "* The hyperbolic tangent function : tanh(z) = 2 $\\sigma$(2z) - 1\n",
    "* The Rectified Linear Unit function: ReLU(z) = max(0, z)"
   ]
  },
  {
   "cell_type": "markdown",
   "metadata": {},
   "source": [
    "### Building an Image Classifier using the Sequential API"
   ]
  },
  {
   "cell_type": "code",
   "execution_count": 12,
   "metadata": {},
   "outputs": [],
   "source": [
    "import tensorflow as tf\n",
    "from tensorflow import keras"
   ]
  },
  {
   "cell_type": "code",
   "execution_count": 13,
   "metadata": {},
   "outputs": [
    {
     "data": {
      "text/plain": [
       "'2.3.0'"
      ]
     },
     "execution_count": 13,
     "metadata": {},
     "output_type": "execute_result"
    }
   ],
   "source": [
    "tf.__version__"
   ]
  },
  {
   "cell_type": "code",
   "execution_count": 14,
   "metadata": {},
   "outputs": [
    {
     "data": {
      "text/plain": [
       "'2.4.0'"
      ]
     },
     "execution_count": 14,
     "metadata": {},
     "output_type": "execute_result"
    }
   ],
   "source": [
    "keras.__version__"
   ]
  },
  {
   "cell_type": "markdown",
   "metadata": {},
   "source": [
    "Let's start by loading the fashion MNIST dataset."
   ]
  },
  {
   "cell_type": "code",
   "execution_count": 15,
   "metadata": {},
   "outputs": [
    {
     "name": "stdout",
     "output_type": "stream",
     "text": [
      "Downloading data from https://storage.googleapis.com/tensorflow/tf-keras-datasets/train-labels-idx1-ubyte.gz\n",
      "32768/29515 [=================================] - 0s 0us/step\n",
      "Downloading data from https://storage.googleapis.com/tensorflow/tf-keras-datasets/train-images-idx3-ubyte.gz\n",
      "26427392/26421880 [==============================] - 3s 0us/step\n",
      "Downloading data from https://storage.googleapis.com/tensorflow/tf-keras-datasets/t10k-labels-idx1-ubyte.gz\n",
      "8192/5148 [===============================================] - 0s 1us/step\n",
      "Downloading data from https://storage.googleapis.com/tensorflow/tf-keras-datasets/t10k-images-idx3-ubyte.gz\n",
      "4423680/4422102 [==============================] - 1s 0us/step\n"
     ]
    }
   ],
   "source": [
    "fashion_mnist = keras.datasets.fashion_mnist\n",
    "\n",
    "(X_train_full, y_train_full), (X_test, y_test) = fashion_mnist.load_data()"
   ]
  },
  {
   "cell_type": "code",
   "execution_count": 18,
   "metadata": {},
   "outputs": [
    {
     "data": {
      "text/plain": [
       "((60000, 28, 28), dtype('uint8'))"
      ]
     },
     "execution_count": 18,
     "metadata": {},
     "output_type": "execute_result"
    }
   ],
   "source": [
    "X_train_full.shape, X_train_full.dtype"
   ]
  },
  {
   "cell_type": "markdown",
   "metadata": {},
   "source": [
    "Creating a validation set and scaling the pixel intensities to the 0-1 range by dividing with 255, we get:"
   ]
  },
  {
   "cell_type": "code",
   "execution_count": 30,
   "metadata": {},
   "outputs": [],
   "source": [
    "X_valid, X_train = X_train_full[:5000] / 255, X_train_full[5000:] / 255\n",
    "y_valid, y_train = y_train_full[:5000], y_train_full[5000:]\n",
    "X_test = X_test / 255."
   ]
  },
  {
   "cell_type": "code",
   "execution_count": 31,
   "metadata": {},
   "outputs": [
    {
     "data": {
      "image/png": "[encoded data removed]",
      "text/plain": [
       "<Figure size 432x288 with 1 Axes>"
      ]
     },
     "metadata": {
      "needs_background": "light"
     },
     "output_type": "display_data"
    }
   ],
   "source": [
    "plt.imshow(X_train[0], cmap=\"binary\")\n",
    "plt.axis('off')\n",
    "plt.show()"
   ]
  },
  {
   "cell_type": "markdown",
   "metadata": {},
   "source": [
    "The labels are the class IDs (represented as uint8), from 0 to 9:"
   ]
  },
  {
   "cell_type": "code",
   "execution_count": 32,
   "metadata": {
    "scrolled": true
   },
   "outputs": [
    {
     "data": {
      "text/plain": [
       "array([4, 0, 7, ..., 3, 0, 5], dtype=uint8)"
      ]
     },
     "execution_count": 32,
     "metadata": {},
     "output_type": "execute_result"
    }
   ],
   "source": [
    "y_train"
   ]
  },
  {
   "cell_type": "markdown",
   "metadata": {},
   "source": [
    "Here are the corresponding class names:"
   ]
  },
  {
   "cell_type": "code",
   "execution_count": 33,
   "metadata": {},
   "outputs": [],
   "source": [
    "class_names = [\"T-shirt/top\", \"Trouser\", \"Pullover\", \"Dress\", \"Coat\",\n",
    "               \"Sandal\", \"Shirt\", \"Sneaker\", \"Bag\", \"Ankle boot\"]"
   ]
  },
  {
   "cell_type": "markdown",
   "metadata": {},
   "source": [
    "So the first image in the training set is a coat:"
   ]
  },
  {
   "cell_type": "code",
   "execution_count": 35,
   "metadata": {},
   "outputs": [
    {
     "data": {
      "text/plain": [
       "'Coat'"
      ]
     },
     "execution_count": 35,
     "metadata": {},
     "output_type": "execute_result"
    }
   ],
   "source": [
    "class_names[y_train[0]]"
   ]
  },
  {
   "cell_type": "code",
   "execution_count": 36,
   "metadata": {},
   "outputs": [
    {
     "data": {
      "text/plain": [
       "((5000, 28, 28), (10000, 28, 28))"
      ]
     },
     "execution_count": 36,
     "metadata": {},
     "output_type": "execute_result"
    }
   ],
   "source": [
    "X_valid.shape, X_test.shape"
   ]
  },
  {
   "cell_type": "code",
   "execution_count": 37,
   "metadata": {},
   "outputs": [
    {
     "name": "stdout",
     "output_type": "stream",
     "text": [
      "Saving figure fashion_mnist_plot\n"
     ]
    },
    {
     "data": {
      "image/png": "[encoded data removed]",
      "text/plain": [
       "<Figure size 864x345.6 with 40 Axes>"
      ]
     },
     "metadata": {
      "needs_background": "light"
     },
     "output_type": "display_data"
    }
   ],
   "source": [
    "n_rows = 4\n",
    "n_cols = 10\n",
    "plt.figure(figsize=(n_cols * 1.2, n_rows * 1.2))\n",
    "for row in range(n_rows):\n",
    "    for col in range(n_cols):\n",
    "        index = n_cols * row + col\n",
    "        plt.subplot(n_rows, n_cols, index + 1)\n",
    "        plt.imshow(X_train[index], cmap=\"binary\", interpolation=\"nearest\")\n",
    "        plt.axis('off')\n",
    "        plt.title(class_names[y_train[index]], fontsize=12)\n",
    "plt.subplots_adjust(wspace=0.2, hspace=0.5)\n",
    "save_fig('fashion_mnist_plot', tight_layout=False)\n",
    "plt.show()"
   ]
  },
  {
   "cell_type": "markdown",
   "metadata": {},
   "source": [
    "Now, let's build the neural network! Here is a classification with two hidden layers:"
   ]
  },
  {
   "cell_type": "code",
   "execution_count": 38,
   "metadata": {},
   "outputs": [],
   "source": [
    "model = keras.models.Sequential()\n",
    "model.add(keras.layers.Flatten(input_shape=[28,28]))\n",
    "model.add(keras.layers.Dense(300, activation='relu'))\n",
    "model.add(keras.layers.Dense(100, activation='relu'))\n",
    "model.add(keras.layers.Dense(10, activation='softmax'))"
   ]
  },
  {
   "cell_type": "code",
   "execution_count": 40,
   "metadata": {},
   "outputs": [
    {
     "name": "stdout",
     "output_type": "stream",
     "text": [
      "Model: \"sequential\"\n",
      "_________________________________________________________________\n",
      "Layer (type)                 Output Shape              Param #   \n",
      "=================================================================\n",
      "flatten (Flatten)            (None, 784)               0         \n",
      "_________________________________________________________________\n",
      "dense (Dense)                (None, 300)               235500    \n",
      "_________________________________________________________________\n",
      "dense_1 (Dense)              (None, 100)               30100     \n",
      "_________________________________________________________________\n",
      "dense_2 (Dense)              (None, 10)                1010      \n",
      "=================================================================\n",
      "Total params: 266,610\n",
      "Trainable params: 266,610\n",
      "Non-trainable params: 0\n",
      "_________________________________________________________________\n"
     ]
    }
   ],
   "source": [
    "# displays all the model's layers\n",
    "model.summary()"
   ]
  },
  {
   "cell_type": "markdown",
   "metadata": {},
   "source": [
    "In output shape: None means the batch size can be anything.<br>\n",
    "The first hidden layer has 784 x 300 connection weights, plus 300 bias terms, which adds up to 235500."
   ]
  },
  {
   "cell_type": "code",
   "execution_count": 41,
   "metadata": {},
   "outputs": [
    {
     "data": {
      "text/plain": [
       "[<tensorflow.python.keras.layers.core.Flatten at 0x7fcae9f161c0>,\n",
       " <tensorflow.python.keras.layers.core.Dense at 0x7fcab95c6ac0>,\n",
       " <tensorflow.python.keras.layers.core.Dense at 0x7fcab95dae50>,\n",
       " <tensorflow.python.keras.layers.core.Dense at 0x7fcab95dadc0>]"
      ]
     },
     "execution_count": 41,
     "metadata": {},
     "output_type": "execute_result"
    }
   ],
   "source": [
    "model.layers"
   ]
  },
  {
   "cell_type": "code",
   "execution_count": 42,
   "metadata": {},
   "outputs": [
    {
     "data": {
      "text/plain": [
       "<tensorflow.python.keras.layers.core.Dense at 0x7fcab95dae50>"
      ]
     },
     "execution_count": 42,
     "metadata": {},
     "output_type": "execute_result"
    }
   ],
   "source": [
    "model.get_layer('dense_1')"
   ]
  },
  {
   "cell_type": "code",
   "execution_count": 44,
   "metadata": {},
   "outputs": [
    {
     "data": {
      "text/plain": [
       "'dense'"
      ]
     },
     "execution_count": 44,
     "metadata": {},
     "output_type": "execute_result"
    }
   ],
   "source": [
    "hidden1 = model.layers[1]\n",
    "hidden1.name"
   ]
  },
  {
   "cell_type": "code",
   "execution_count": 45,
   "metadata": {},
   "outputs": [],
   "source": [
    "weights, biases = hidden1.get_weights()"
   ]
  },
  {
   "cell_type": "code",
   "execution_count": 49,
   "metadata": {},
   "outputs": [
    {
     "data": {
      "text/plain": [
       "(array([[ 0.04718816,  0.00349372, -0.03895431, ..., -0.05589093,\n",
       "          0.0453517 ,  0.00122051],\n",
       "        [-0.00226308, -0.01142256, -0.05759096, ..., -0.05371315,\n",
       "         -0.03826962, -0.05215397],\n",
       "        [-0.05214519,  0.02888069,  0.02079277, ..., -0.06336838,\n",
       "         -0.05147829, -0.05556271],\n",
       "        ...,\n",
       "        [ 0.02161963,  0.00059502,  0.00334571, ...,  0.03965842,\n",
       "         -0.00016268,  0.00247915],\n",
       "        [-0.02677171, -0.04137794, -0.03242487, ..., -0.01804408,\n",
       "         -0.0023031 , -0.06939021],\n",
       "        [ 0.02478953, -0.02344104, -0.03806646, ...,  0.05628519,\n",
       "         -0.03580938, -0.07298822]], dtype=float32),\n",
       " (784, 300))"
      ]
     },
     "execution_count": 49,
     "metadata": {},
     "output_type": "execute_result"
    }
   ],
   "source": [
    "weights, weights.shape"
   ]
  },
  {
   "cell_type": "code",
   "execution_count": 50,
   "metadata": {},
   "outputs": [
    {
     "data": {
      "text/plain": [
       "(array([0., 0., 0., 0., 0., 0., 0., 0., 0., 0., 0., 0., 0., 0., 0., 0., 0.,\n",
       "        0., 0., 0., 0., 0., 0., 0., 0., 0., 0., 0., 0., 0., 0., 0., 0., 0.,\n",
       "        0., 0., 0., 0., 0., 0., 0., 0., 0., 0., 0., 0., 0., 0., 0., 0., 0.,\n",
       "        0., 0., 0., 0., 0., 0., 0., 0., 0., 0., 0., 0., 0., 0., 0., 0., 0.,\n",
       "        0., 0., 0., 0., 0., 0., 0., 0., 0., 0., 0., 0., 0., 0., 0., 0., 0.,\n",
       "        0., 0., 0., 0., 0., 0., 0., 0., 0., 0., 0., 0., 0., 0., 0., 0., 0.,\n",
       "        0., 0., 0., 0., 0., 0., 0., 0., 0., 0., 0., 0., 0., 0., 0., 0., 0.,\n",
       "        0., 0., 0., 0., 0., 0., 0., 0., 0., 0., 0., 0., 0., 0., 0., 0., 0.,\n",
       "        0., 0., 0., 0., 0., 0., 0., 0., 0., 0., 0., 0., 0., 0., 0., 0., 0.,\n",
       "        0., 0., 0., 0., 0., 0., 0., 0., 0., 0., 0., 0., 0., 0., 0., 0., 0.,\n",
       "        0., 0., 0., 0., 0., 0., 0., 0., 0., 0., 0., 0., 0., 0., 0., 0., 0.,\n",
       "        0., 0., 0., 0., 0., 0., 0., 0., 0., 0., 0., 0., 0., 0., 0., 0., 0.,\n",
       "        0., 0., 0., 0., 0., 0., 0., 0., 0., 0., 0., 0., 0., 0., 0., 0., 0.,\n",
       "        0., 0., 0., 0., 0., 0., 0., 0., 0., 0., 0., 0., 0., 0., 0., 0., 0.,\n",
       "        0., 0., 0., 0., 0., 0., 0., 0., 0., 0., 0., 0., 0., 0., 0., 0., 0.,\n",
       "        0., 0., 0., 0., 0., 0., 0., 0., 0., 0., 0., 0., 0., 0., 0., 0., 0.,\n",
       "        0., 0., 0., 0., 0., 0., 0., 0., 0., 0., 0., 0., 0., 0., 0., 0., 0.,\n",
       "        0., 0., 0., 0., 0., 0., 0., 0., 0., 0., 0.], dtype=float32),\n",
       " (300,))"
      ]
     },
     "execution_count": 50,
     "metadata": {},
     "output_type": "execute_result"
    }
   ],
   "source": [
    "biases, biases.shape"
   ]
  },
  {
   "cell_type": "code",
   "execution_count": 51,
   "metadata": {},
   "outputs": [],
   "source": [
    "model.compile(loss='sparse_categorical_crossentropy', optimizer='sgd', metrics=['accuracy'])"
   ]
  },
  {
   "cell_type": "code",
   "execution_count": 53,
   "metadata": {},
   "outputs": [
    {
     "name": "stdout",
     "output_type": "stream",
     "text": [
      "Epoch 1/30\n",
      "1719/1719 [==============================] - 5s 3ms/step - loss: 0.7122 - accuracy: 0.7674 - val_loss: 0.4975 - val_accuracy: 0.8328\n",
      "Epoch 2/30\n",
      "1719/1719 [==============================] - 4s 2ms/step - loss: 0.4849 - accuracy: 0.8307 - val_loss: 0.4547 - val_accuracy: 0.8470\n",
      "Epoch 3/30\n",
      "1719/1719 [==============================] - 4s 2ms/step - loss: 0.4409 - accuracy: 0.8456 - val_loss: 0.4104 - val_accuracy: 0.8642\n",
      "Epoch 4/30\n",
      "1719/1719 [==============================] - 5s 3ms/step - loss: 0.4144 - accuracy: 0.8547 - val_loss: 0.3957 - val_accuracy: 0.8650\n",
      "Epoch 5/30\n",
      "1719/1719 [==============================] - 5s 3ms/step - loss: 0.3965 - accuracy: 0.8600 - val_loss: 0.3968 - val_accuracy: 0.8564\n",
      "Epoch 6/30\n",
      "1719/1719 [==============================] - 6s 3ms/step - loss: 0.3793 - accuracy: 0.8668 - val_loss: 0.3662 - val_accuracy: 0.8718\n",
      "Epoch 7/30\n",
      "1719/1719 [==============================] - 4s 3ms/step - loss: 0.3665 - accuracy: 0.8710 - val_loss: 0.3686 - val_accuracy: 0.8694\n",
      "Epoch 8/30\n",
      "1719/1719 [==============================] - 4s 2ms/step - loss: 0.3550 - accuracy: 0.8741 - val_loss: 0.3604 - val_accuracy: 0.8748\n",
      "Epoch 9/30\n",
      "1719/1719 [==============================] - 4s 2ms/step - loss: 0.3444 - accuracy: 0.8770 - val_loss: 0.3558 - val_accuracy: 0.8728\n",
      "Epoch 10/30\n",
      "1719/1719 [==============================] - 4s 2ms/step - loss: 0.3344 - accuracy: 0.8801 - val_loss: 0.3435 - val_accuracy: 0.8784\n",
      "Epoch 11/30\n",
      "1719/1719 [==============================] - 4s 3ms/step - loss: 0.3251 - accuracy: 0.8846 - val_loss: 0.3494 - val_accuracy: 0.8794\n",
      "Epoch 12/30\n",
      "1719/1719 [==============================] - 4s 2ms/step - loss: 0.3187 - accuracy: 0.8869 - val_loss: 0.3330 - val_accuracy: 0.8846\n",
      "Epoch 13/30\n",
      "1719/1719 [==============================] - 4s 2ms/step - loss: 0.3115 - accuracy: 0.8888 - val_loss: 0.3366 - val_accuracy: 0.8816\n",
      "Epoch 14/30\n",
      "1719/1719 [==============================] - 4s 2ms/step - loss: 0.3039 - accuracy: 0.8915 - val_loss: 0.3357 - val_accuracy: 0.8774\n",
      "Epoch 15/30\n",
      "1719/1719 [==============================] - 4s 2ms/step - loss: 0.2977 - accuracy: 0.8933 - val_loss: 0.3244 - val_accuracy: 0.8876\n",
      "Epoch 16/30\n",
      "1719/1719 [==============================] - 4s 2ms/step - loss: 0.2919 - accuracy: 0.8960 - val_loss: 0.3197 - val_accuracy: 0.8888\n",
      "Epoch 17/30\n",
      "1719/1719 [==============================] - 4s 2ms/step - loss: 0.2857 - accuracy: 0.8969 - val_loss: 0.3200 - val_accuracy: 0.8870\n",
      "Epoch 18/30\n",
      "1719/1719 [==============================] - 4s 2ms/step - loss: 0.2801 - accuracy: 0.8985 - val_loss: 0.3229 - val_accuracy: 0.8868\n",
      "Epoch 19/30\n",
      "1719/1719 [==============================] - 4s 2ms/step - loss: 0.2746 - accuracy: 0.9007 - val_loss: 0.3093 - val_accuracy: 0.8890\n",
      "Epoch 20/30\n",
      "1719/1719 [==============================] - 4s 2ms/step - loss: 0.2696 - accuracy: 0.9026 - val_loss: 0.3103 - val_accuracy: 0.8910\n",
      "Epoch 21/30\n",
      "1719/1719 [==============================] - 5s 3ms/step - loss: 0.2642 - accuracy: 0.9044 - val_loss: 0.3080 - val_accuracy: 0.8896\n",
      "Epoch 22/30\n",
      "1719/1719 [==============================] - 5s 3ms/step - loss: 0.2601 - accuracy: 0.9063 - val_loss: 0.3015 - val_accuracy: 0.8924\n",
      "Epoch 23/30\n",
      "1719/1719 [==============================] - 5s 3ms/step - loss: 0.2558 - accuracy: 0.9086 - val_loss: 0.3137 - val_accuracy: 0.8888\n",
      "Epoch 24/30\n",
      "1719/1719 [==============================] - 4s 2ms/step - loss: 0.2507 - accuracy: 0.9108 - val_loss: 0.2984 - val_accuracy: 0.8954\n",
      "Epoch 25/30\n",
      "1719/1719 [==============================] - 4s 3ms/step - loss: 0.2460 - accuracy: 0.9109 - val_loss: 0.3097 - val_accuracy: 0.8896\n",
      "Epoch 26/30\n",
      "1719/1719 [==============================] - 4s 2ms/step - loss: 0.2424 - accuracy: 0.9135 - val_loss: 0.3293 - val_accuracy: 0.8818\n",
      "Epoch 27/30\n",
      "1719/1719 [==============================] - 4s 2ms/step - loss: 0.2384 - accuracy: 0.9146 - val_loss: 0.3019 - val_accuracy: 0.8922\n",
      "Epoch 28/30\n",
      "1719/1719 [==============================] - 4s 3ms/step - loss: 0.2339 - accuracy: 0.9170 - val_loss: 0.2947 - val_accuracy: 0.8924\n",
      "Epoch 29/30\n",
      "1719/1719 [==============================] - 4s 2ms/step - loss: 0.2306 - accuracy: 0.9177 - val_loss: 0.2887 - val_accuracy: 0.8994\n",
      "Epoch 30/30\n",
      "1719/1719 [==============================] - 4s 2ms/step - loss: 0.2265 - accuracy: 0.9193 - val_loss: 0.2957 - val_accuracy: 0.8948\n"
     ]
    }
   ],
   "source": [
    "history = model.fit(X_train, y_train, epochs=30, validation_data=(X_valid, y_valid))"
   ]
  },
  {
   "cell_type": "code",
   "execution_count": 54,
   "metadata": {},
   "outputs": [
    {
     "data": {
      "text/plain": [
       "{'verbose': 1, 'epochs': 30, 'steps': 1719}"
      ]
     },
     "execution_count": 54,
     "metadata": {},
     "output_type": "execute_result"
    }
   ],
   "source": [
    "history.params"
   ]
  },
  {
   "cell_type": "code",
   "execution_count": 56,
   "metadata": {},
   "outputs": [
    {
     "data": {
      "text/plain": [
       "[0,\n",
       " 1,\n",
       " 2,\n",
       " 3,\n",
       " 4,\n",
       " 5,\n",
       " 6,\n",
       " 7,\n",
       " 8,\n",
       " 9,\n",
       " 10,\n",
       " 11,\n",
       " 12,\n",
       " 13,\n",
       " 14,\n",
       " 15,\n",
       " 16,\n",
       " 17,\n",
       " 18,\n",
       " 19,\n",
       " 20,\n",
       " 21,\n",
       " 22,\n",
       " 23,\n",
       " 24,\n",
       " 25,\n",
       " 26,\n",
       " 27,\n",
       " 28,\n",
       " 29]"
      ]
     },
     "execution_count": 56,
     "metadata": {},
     "output_type": "execute_result"
    }
   ],
   "source": [
    "history.epoch"
   ]
  },
  {
   "cell_type": "code",
   "execution_count": 57,
   "metadata": {},
   "outputs": [
    {
     "data": {
      "text/plain": [
       "{'loss': [0.7122138738632202,\n",
       "  0.4849025309085846,\n",
       "  0.44087791442871094,\n",
       "  0.414390504360199,\n",
       "  0.3965364694595337,\n",
       "  0.37925148010253906,\n",
       "  0.36654454469680786,\n",
       "  0.35504627227783203,\n",
       "  0.344376802444458,\n",
       "  0.33442261815071106,\n",
       "  0.32511287927627563,\n",
       "  0.31869274377822876,\n",
       "  0.31148985028266907,\n",
       "  0.30385059118270874,\n",
       "  0.2976767122745514,\n",
       "  0.29185163974761963,\n",
       "  0.28566116094589233,\n",
       "  0.2801434397697449,\n",
       "  0.274552583694458,\n",
       "  0.26957646012306213,\n",
       "  0.2641980051994324,\n",
       "  0.2600933313369751,\n",
       "  0.25579044222831726,\n",
       "  0.25068163871765137,\n",
       "  0.24600456655025482,\n",
       "  0.24239732325077057,\n",
       "  0.23842334747314453,\n",
       "  0.23391467332839966,\n",
       "  0.23059283196926117,\n",
       "  0.22653383016586304],\n",
       " 'accuracy': [0.7674182057380676,\n",
       "  0.8306545615196228,\n",
       "  0.8456000089645386,\n",
       "  0.8546545505523682,\n",
       "  0.8599636554718018,\n",
       "  0.8668000102043152,\n",
       "  0.8710363507270813,\n",
       "  0.8740727305412292,\n",
       "  0.8769636154174805,\n",
       "  0.8801090717315674,\n",
       "  0.8845818042755127,\n",
       "  0.8868545293807983,\n",
       "  0.8888182044029236,\n",
       "  0.8915091156959534,\n",
       "  0.8933091163635254,\n",
       "  0.8959817886352539,\n",
       "  0.8968726992607117,\n",
       "  0.8985090851783752,\n",
       "  0.9006909132003784,\n",
       "  0.9025636315345764,\n",
       "  0.9043999910354614,\n",
       "  0.9062545299530029,\n",
       "  0.9086363911628723,\n",
       "  0.9107999801635742,\n",
       "  0.9108726978302002,\n",
       "  0.913490891456604,\n",
       "  0.9146000146865845,\n",
       "  0.9169818162918091,\n",
       "  0.9176545739173889,\n",
       "  0.9193090796470642],\n",
       " 'val_loss': [0.49753206968307495,\n",
       "  0.45466646552085876,\n",
       "  0.4103752374649048,\n",
       "  0.3957127332687378,\n",
       "  0.39679667353630066,\n",
       "  0.3661726415157318,\n",
       "  0.3685699701309204,\n",
       "  0.3603956699371338,\n",
       "  0.35581663250923157,\n",
       "  0.3435119688510895,\n",
       "  0.34944450855255127,\n",
       "  0.3329985737800598,\n",
       "  0.33660057187080383,\n",
       "  0.33573585748672485,\n",
       "  0.3244398832321167,\n",
       "  0.3197058439254761,\n",
       "  0.32004663348197937,\n",
       "  0.32288268208503723,\n",
       "  0.309335321187973,\n",
       "  0.31034356355667114,\n",
       "  0.30795979499816895,\n",
       "  0.30148452520370483,\n",
       "  0.31365272402763367,\n",
       "  0.29835543036460876,\n",
       "  0.30974966287612915,\n",
       "  0.3292582035064697,\n",
       "  0.3019324839115143,\n",
       "  0.29468607902526855,\n",
       "  0.28873538970947266,\n",
       "  0.2957165837287903],\n",
       " 'val_accuracy': [0.8327999711036682,\n",
       "  0.847000002861023,\n",
       "  0.8641999959945679,\n",
       "  0.8650000095367432,\n",
       "  0.8564000129699707,\n",
       "  0.8718000054359436,\n",
       "  0.8694000244140625,\n",
       "  0.8748000264167786,\n",
       "  0.8727999925613403,\n",
       "  0.8784000277519226,\n",
       "  0.8794000148773193,\n",
       "  0.8845999836921692,\n",
       "  0.881600022315979,\n",
       "  0.8773999810218811,\n",
       "  0.8876000046730042,\n",
       "  0.8888000249862671,\n",
       "  0.8870000243186951,\n",
       "  0.8867999911308289,\n",
       "  0.8889999985694885,\n",
       "  0.890999972820282,\n",
       "  0.8895999789237976,\n",
       "  0.8924000263214111,\n",
       "  0.8888000249862671,\n",
       "  0.8953999876976013,\n",
       "  0.8895999789237976,\n",
       "  0.8817999958992004,\n",
       "  0.8921999931335449,\n",
       "  0.8924000263214111,\n",
       "  0.899399995803833,\n",
       "  0.8948000073432922]}"
      ]
     },
     "execution_count": 57,
     "metadata": {},
     "output_type": "execute_result"
    }
   ],
   "source": [
    "history.history"
   ]
  },
  {
   "cell_type": "code",
   "execution_count": 62,
   "metadata": {},
   "outputs": [
    {
     "name": "stdout",
     "output_type": "stream",
     "text": [
      "Saving figure keras_learning_curves_plot\n"
     ]
    },
    {
     "data": {
      "image/png": "[encoded data removed]",
      "text/plain": [
       "<Figure size 576x360 with 1 Axes>"
      ]
     },
     "metadata": {
      "needs_background": "light"
     },
     "output_type": "display_data"
    }
   ],
   "source": [
    "import pandas as pd\n",
    "\n",
    "pd.DataFrame(history.history).plot(figsize=(8, 5))\n",
    "plt.grid(True)\n",
    "plt.gca().set_ylim(0, 1)\n",
    "save_fig(\"keras_learning_curves_plot\")\n",
    "plt.show()"
   ]
  },
  {
   "cell_type": "code",
   "execution_count": null,
   "metadata": {},
   "outputs": [],
   "source": []
  }
 ],
 "metadata": {
  "kernelspec": {
   "display_name": "Python 3",
   "language": "python",
   "name": "python3"
  },
  "language_info": {
   "codemirror_mode": {
    "name": "ipython",
    "version": 3
   },
   "file_extension": ".py",
   "mimetype": "text/x-python",
   "name": "python",
   "nbconvert_exporter": "python",
   "pygments_lexer": "ipython3",
   "version": "3.8.3"
  }
 },
 "nbformat": 4,
 "nbformat_minor": 4
}
