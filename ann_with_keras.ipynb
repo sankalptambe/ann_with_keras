{
 "cells": [
  {
   "cell_type": "markdown",
   "metadata": {},
   "source": [
    "# Introduction to Artificial Neural Networks with Keras"
   ]
  },
  {
   "cell_type": "markdown",
   "metadata": {},
   "source": [
    "Artificial Neural Networks (ANNs): is a Machine Learning model inspired by the networks of biological neurons found in our brains.\n",
    "\n",
    "#### Biological Neuron\n",
    "![Biological Neuron](images/biological-neuron.jpg)\n",
    "\n",
    "\n",
    "Biological neurons produce short electrical impulses called *action potentials* (APs, or just *signals*) which travel along the axons and make the synapses release chemical signals called *neurotransmitters*. When a neuron receives suffient amount of these neurotransmitters within a few milliseconds, it fires its own electrical impulses.\n",
    "\n",
    "These individual neurons are organized in a vast network of billions, with each neuron typically connected to thousands of other neurons.\n",
    "\n",
    "### Logical computations with Neurons\n",
    "\n",
    "The below diagram represents the logical computations on neuron activation.\n",
    "\n",
    "![Logical Computations](images/log_comp.png)\n",
    "\n",
    "* If A is activated, then C also gets activated\n",
    "* C is activated only when both A and B are activated (logical *AND*)\n",
    "* C is activated if either A or B is activated (logical *OR*)\n",
    "* C is activated only if A is active and B is off.\n",
    "\n",
    "### The Perceptron\n",
    "The *Perceptron* is one of the simplest ANN architectures based on a slightly different artificial neuron called a *threshold logic unit* (TLU), or sometimes *lienar threshold unit* (LTU). the inputs and outputs are numbers (instead of binary on/off values, and each input connection is associated with a weight.\n",
    "\n",
    "The TLU computes the weighted sum of its inputs (z = $w_1x_1 + w_2x_2 +  ... + w_nx_n = x^Tw$), then applies a step function to that sum and outputs the result : h$_w$(x) = step(z), where z = x$^T$w.\n",
    "\n",
    "\n",
    "![TLU](images/tlu.png)\n",
    "\n",
    "\n",
    "The most common step function used in Perceptrons is the *Heaviside step function*."
   ]
  },
  {
   "cell_type": "code",
   "execution_count": null,
   "metadata": {},
   "outputs": [],
   "source": []
  }
 ],
 "metadata": {
  "kernelspec": {
   "display_name": "Python 3",
   "language": "python",
   "name": "python3"
  },
  "language_info": {
   "codemirror_mode": {
    "name": "ipython",
    "version": 3
   },
   "file_extension": ".py",
   "mimetype": "text/x-python",
   "name": "python",
   "nbconvert_exporter": "python",
   "pygments_lexer": "ipython3",
   "version": "3.8.3"
  }
 },
 "nbformat": 4,
 "nbformat_minor": 4
}
